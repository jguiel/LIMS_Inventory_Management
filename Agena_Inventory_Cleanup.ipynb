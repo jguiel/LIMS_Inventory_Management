{
 "cells": [
  {
   "cell_type": "code",
   "execution_count": 21,
   "id": "e3563055",
   "metadata": {},
   "outputs": [],
   "source": [
    "# Begin with these LIMS exports and files placed in /input_inv:\n",
    "\n",
    "# inv.xlsx - Agena total scanned inventory of XE numbers\n",
    "# inv_lots.xlsx - reagent lots isolated\n",
    "# lims_inv.csv - LIMS exported file of all reagents on shelf of interest\n",
    "\n",
    "import pandas as pd\n",
    "import numpy as np\n",
    "import re"
   ]
  },
  {
   "cell_type": "code",
   "execution_count": 22,
   "id": "e4d1f037",
   "metadata": {},
   "outputs": [],
   "source": [
    "# Parse data from Inventory Workbook into single dataframe\n",
    "\n",
    "scanned_inv = pd.concat(pd.read_excel(\n",
    "    'input_inv/inv.xlsx',\n",
    "    sheet_name=None\n",
    "), ignore_index=True)"
   ]
  },
  {
   "cell_type": "code",
   "execution_count": 23,
   "id": "f00a7a05",
   "metadata": {},
   "outputs": [],
   "source": [
    "# Parse lot numbers from Lot Number Workbook into single .csv dataframe\n",
    "parsed_lots = pd.concat(pd.read_excel(\n",
    "    'input_inv/inv_lots.xlsx',\n",
    "    sheet_name=None\n",
    "), ignore_index=True)"
   ]
  },
  {
   "cell_type": "code",
   "execution_count": 24,
   "id": "1f005f43",
   "metadata": {},
   "outputs": [],
   "source": [
    "#Trims full .csv export from LIMS to appropriate columns\n",
    "lims_inv = pd.read_csv('input_inv/lims_inv.csv')\n",
    "lims_inv = lims_inv[['Name', 'Barcode', 'Lot Number', 'Location']]"
   ]
  },
  {
   "cell_type": "code",
   "execution_count": null,
   "id": "d88ad202",
   "metadata": {},
   "outputs": [],
   "source": [
    "#Selects for rows containing your inventory\n",
    "#Input the title of your project, reagent name, or any keyword found in 'Name' of your project\n",
    "reagents = ['Oligo'] \n",
    "lims_inv = lims_inv[\n",
    "    lims_inv['Name'].str.contains('|'.join(reagents), case=False)]"
   ]
  },
  {
   "cell_type": "code",
   "execution_count": 28,
   "id": "fd8a16e1",
   "metadata": {},
   "outputs": [],
   "source": [
    "#Regex function to strip location down to shelf.\n",
    "lims_inv['Location'] = re.search('SH[\\d]+', str(loc)).group(0)"
   ]
  },
  {
   "cell_type": "code",
   "execution_count": 38,
   "id": "5a1f59f2",
   "metadata": {},
   "outputs": [
    {
     "name": "stdout",
     "output_type": "stream",
     "text": [
      "List created is equal to initial inventory\n"
     ]
    }
   ],
   "source": [
    "#Creates list of scanned XE numbers from physical inventory as reference when comparing to LIMS inventory\n",
    "scanned_xe_list = []\n",
    "for xe in scanned_inv['XE Number']:\n",
    "    xe = xe.upper()\n",
    "    if xe[0] == 'X':\n",
    "        scanned_xe_list.append(xe)"
   ]
  },
  {
   "cell_type": "code",
   "execution_count": null,
   "id": "84226ade",
   "metadata": {},
   "outputs": [],
   "source": [
    "#Checks for possible errors in your scanned inventory\n",
    "if len(scanned_xe_list) == len(scanned_inv):\n",
    "    print('List created is equal to initial inventory')\n",
    "else:\n",
    "    print('Your inventory may have formatting errors, check again',\n",
    "          '\\nLength of your inventory:',\n",
    "          len(scanned_inv), '\\nLength of created list:', len(scanned_xe_list))"
   ]
  },
  {
   "cell_type": "code",
   "execution_count": null,
   "id": "b567da18",
   "metadata": {},
   "outputs": [],
   "source": [
    "#Creates was_scanned column\n",
    "#If LIMS reagent is physically present: True\n",
    "#If reagent is missing or has not been trashed: False\n",
    "lims_inv['Found in Inventory'] = ''\n",
    "for xe in lims_inv['Barcode']:\n",
    "    if xe in scanned_xe_list:\n",
    "        lims_inv['Found in Inventory'].loc[lims_inv['Barcode'] == xe] = True\n",
    "    else:\n",
    "        lims_inv['Found in Inventory'].loc[lims_inv['Barcode'] == xe] = False"
   ]
  },
  {
   "cell_type": "code",
   "execution_count": null,
   "id": "304062dc",
   "metadata": {},
   "outputs": [],
   "source": [
    "#Sorts table so missing inventory is first, and then sorts by name alphabetically\n",
    "lims_inv.sort_values(by=['Found in Inventory', 'Name'], inplace=True)"
   ]
  },
  {
   "cell_type": "code",
   "execution_count": 27,
   "id": "3315260f",
   "metadata": {},
   "outputs": [],
   "source": [
    "#Final scanned inventory .csv from .xlsx\n",
    "scanned_inv.to_csv('output_inv/scanned_inv.csv')\n",
    "\n",
    "#Final LIMS inventory .csv\n",
    "lims_inv.to_csv('output_inv/lims_inv.csv')\n",
    "\n",
    "#Lots of inventory isolated into .csv\n",
    "parsed_lots.to_csv('output_inv/inventory_lots.csv')"
   ]
  }
 ],
 "metadata": {
  "kernelspec": {
   "display_name": "Python 3",
   "language": "python",
   "name": "python3"
  },
  "language_info": {
   "codemirror_mode": {
    "name": "ipython",
    "version": 3
   },
   "file_extension": ".py",
   "mimetype": "text/x-python",
   "name": "python",
   "nbconvert_exporter": "python",
   "pygments_lexer": "ipython3",
   "version": "3.8.8"
  }
 },
 "nbformat": 4,
 "nbformat_minor": 5
}
