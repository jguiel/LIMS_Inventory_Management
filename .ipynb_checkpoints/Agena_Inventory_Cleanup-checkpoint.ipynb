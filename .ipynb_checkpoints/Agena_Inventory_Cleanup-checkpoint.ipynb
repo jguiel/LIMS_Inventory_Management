{
 "cells": [
  {
   "cell_type": "code",
   "execution_count": 2,
   "id": "e3563055",
   "metadata": {},
   "outputs": [],
   "source": [
    "import pandas as pd\n",
    "import numpy as np\n",
    "\n",
    "# Begin with these LIMS exports and files placed in /input_inv:\n",
    "\n",
    "# inv.xlsx - Agena total scanned inventory of XE numbers\n",
    "# inv_lots.xlsx - reagent lots isolated\n",
    "# lims_inv.csv - LIMS exported file of all reagents on shelf of interest"
   ]
  },
  {
   "cell_type": "code",
   "execution_count": 10,
   "id": "e4d1f037",
   "metadata": {},
   "outputs": [],
   "source": [
    "# Parse data from Inventory Workbook into single .csv dataframe\n",
    "\n",
    "scanned_inv = pd.concat(pd.read_excel(\n",
    "    'input_inv/inv.xlsx',\n",
    "    sheet_name=None\n",
    "), ignore_index=True)\n",
    "\n",
    "scanned_inv.to_csv('output_inv/scanned_inv.csv')"
   ]
  },
  {
   "cell_type": "code",
   "execution_count": 11,
   "id": "f00a7a05",
   "metadata": {},
   "outputs": [],
   "source": [
    "#Parse lot numbers from Lot Number Workbook into single .csv dataframe\n",
    "\n",
    "parsed_lots = pd.concat(pd.read_excel(\n",
    "    'input_inv/inv_lots.xlsx',\n",
    "    sheet_name=None\n",
    "), ignore_index=True)\n",
    "\n",
    "parsed_lots.to_csv('output_inv/inventory_lots.csv')"
   ]
  },
  {
   "cell_type": "code",
   "execution_count": 13,
   "id": "1f005f43",
   "metadata": {},
   "outputs": [],
   "source": [
    "#Trims full .csv export from LIMS to appropriate columns\n",
    "sh521_full_export = pd.read_csv('input_inv/SH521.csv')\n",
    "sh521_inv = sh521_full_export[['Name', 'Barcode', 'Lot Number']]\n",
    "\n",
    "#Trims rows containing inventory from other projects, selecting for Agena inventory\n",
    "extraneous_inv = [] #Input project na\n",
    "agena_521 = sh521_inv[\n",
    "    ~sh521_inv['Name'].str.contains('|'.join(extraneous_inv),case=False)]\n",
    "\n",
    "#Final exported inventory to compare\n",
    "agena_521.to_csv('output_inv/agena_521.csv')"
   ]
  }
 ],
 "metadata": {
  "kernelspec": {
   "display_name": "Python 3",
   "language": "python",
   "name": "python3"
  },
  "language_info": {
   "codemirror_mode": {
    "name": "ipython",
    "version": 3
   },
   "file_extension": ".py",
   "mimetype": "text/x-python",
   "name": "python",
   "nbconvert_exporter": "python",
   "pygments_lexer": "ipython3",
   "version": "3.8.8"
  }
 },
 "nbformat": 4,
 "nbformat_minor": 5
}
